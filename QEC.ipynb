{
  "nbformat": 4,
  "nbformat_minor": 0,
  "metadata": {
    "colab": {
      "provenance": []
    },
    "kernelspec": {
      "name": "python3",
      "display_name": "Python 3"
    },
    "language_info": {
      "name": "python"
    }
  },
  "cells": [
    {
      "cell_type": "code",
      "execution_count": null,
      "metadata": {
        "id": "lcx4bHKP-rUM"
      },
      "outputs": [],
      "source": [
        "import numpy as np\n",
        "from numpy import kron\n",
        "\n",
        "# Single-qubit operators\n",
        "I = np.array([[1,0],[0,1]], dtype=complex)\n",
        "X = np.array([[0,1],[1,0]], dtype=complex)\n",
        "Z = np.array([[1,0],[0,-1]], dtype=complex)\n",
        "H = (1/np.sqrt(2))*np.array([[1,1],[1,-1]], dtype=complex)\n",
        "\n",
        "def op_on_qubit(op, which, n=3):\n",
        "    \"\"\"Apply single-qubit operator 'op' to the 1-based index 'which' in an n-qubit system.\"\"\"\n",
        "    M = None\n",
        "    for i in range(1, n+1):\n",
        "        M = kron(M, op if i==which else I) if M is not None else (op if i==which else I)\n",
        "    return M\n",
        "\n",
        "def CNOT(n, control, target):\n",
        "    \"\"\"n-qubit controlled-NOT (1-based indexing).\"\"\"\n",
        "    P0 = np.array([[1,0],[0,0]], dtype=complex)\n",
        "    P1 = np.array([[0,0],[0,1]], dtype=complex)\n",
        "    # When control is |0⟩: identity. When control is |1⟩: apply X to target.\n",
        "    return op_on_qubit(P0, control, n) + op_on_qubit(P1, control, n) @ op_on_qubit(X, target, n)\n",
        "\n",
        "def format_state(state, tol=1e-9):\n",
        "    labels = [format(i, '03b') for i in range(2**3)]\n",
        "    out = []\n",
        "    for amp, lab in zip(state, labels):\n",
        "        if abs(amp) > tol:\n",
        "            out.append(f\"{amp:+.3f}|{lab}⟩\")\n",
        "    return \"\\n\".join(out) if out else \"0\"\n"
      ]
    },
    {
      "cell_type": "code",
      "source": [
        "# Bit-Flip Code\n",
        "n = 3\n",
        "psi = (1/np.sqrt(2))*np.array([1,1], dtype=complex)               # |+>\n",
        "state = kron(kron(psi, np.array([1,0], dtype=complex)), np.array([1,0], dtype=complex))  # |ψ⟩|00⟩\n",
        "\n",
        "# Encoding CNOT(1->2), CNOT(1->3)\n",
        "state_enc = CNOT(n,1,2) @ (CNOT(n,1,3) @ state)\n",
        "\n",
        "# Injecting X error on qubit 2\n",
        "state_err = op_on_qubit(X,2,n) @ state_enc\n",
        "\n",
        "# Stabilizers for syndrome\n",
        "Z1Z2 = op_on_qubit(Z,1,n) @ op_on_qubit(Z,2,n)\n",
        "Z1Z3 = op_on_qubit(Z,1,n) @ op_on_qubit(Z,3,n)\n",
        "s1 = np.vdot(state_err, Z1Z2 @ state_err).real\n",
        "s2 = np.vdot(state_err, Z1Z3 @ state_err).real\n",
        "\n",
        "# Determining which qubit flipped based on s1,s2\n",
        "if s1 < 0 and s2 > 0:\n",
        "    fix = 2\n",
        "elif s1 > 0 and s2 < 0:\n",
        "    fix = 3\n",
        "elif s1 < 0 and s2 < 0:\n",
        "    fix = 1\n",
        "else:\n",
        "    fix = 0\n",
        "\n",
        "# Applying correction\n",
        "state_fix = op_on_qubit(X,fix,n) @ state_err if fix else state_err\n",
        "\n",
        "# Decoding\n",
        "state_out = CNOT(n,1,3) @ (CNOT(n,1,2) @ state_fix)\n",
        "\n",
        "# Reduced density matrix of qubit 1 (should recover |+>)\n",
        "rho = np.outer(state_out, np.conj(state_out))\n",
        "rho1 = np.zeros((2,2), dtype=complex)\n",
        "for a in range(2):\n",
        "    for b in range(2):\n",
        "        s = 0+0j\n",
        "        for q2 in range(2):\n",
        "            for q3 in range(2):\n",
        "                i = (a<<2) | (q2<<1) | q3\n",
        "                j = (b<<2) | (q2<<1) | q3\n",
        "                s += rho[i,j]\n",
        "        rho1[a,b] = s\n",
        "rho_plus = np.outer(psi, np.conj(psi))\n",
        "fid_plus = float(np.real(np.trace(rho1 @ rho_plus)))\n",
        "\n",
        "print(\"[Encoded] (|000⟩+|111⟩)/√2\\n\", format_state(state_enc), \"\\n\", sep=\"\")\n",
        "print(\"[After X error on qubit 2]\\n\", format_state(state_err), \"\\n\", sep=\"\")\n",
        "print(f\"Syndrome: <Z1Z2>={s1:.2f}, <Z1Z3>={s2:.2f}  →  fix qubit {fix if fix else 'none'}\\n\")\n",
        "print(\"[After correction]\\n\", format_state(state_fix), \"\\n\", sep=\"\")\n",
        "print(\"Reduced ρ₁:\\n\", np.round(rho1, 3))\n",
        "print(\"Fidelity with |+⟩:\", round(fid_plus, 6))"
      ],
      "metadata": {
        "colab": {
          "base_uri": "https://localhost:8080/"
        },
        "id": "ZcTsNkzZ_JoW",
        "outputId": "5aa87c23-2050-42c3-d055-ea2209978e1d"
      },
      "execution_count": null,
      "outputs": [
        {
          "output_type": "stream",
          "name": "stdout",
          "text": [
            "[Encoded] (|000⟩+|111⟩)/√2\n",
            "+0.707+0.000j|000⟩\n",
            "+0.707+0.000j|111⟩\n",
            "\n",
            "[After X error on qubit 2]\n",
            "+0.707+0.000j|010⟩\n",
            "+0.707+0.000j|101⟩\n",
            "\n",
            "Syndrome: <Z1Z2>=-1.00, <Z1Z3>=1.00  →  fix qubit 2\n",
            "\n",
            "[After correction]\n",
            "+0.707+0.000j|000⟩\n",
            "+0.707+0.000j|111⟩\n",
            "\n",
            "Reduced ρ₁:\n",
            " [[0.5+0.j 0.5+0.j]\n",
            " [0.5+0.j 0.5+0.j]]\n",
            "Fidelity with |+⟩: 1.0\n"
          ]
        }
      ]
    },
    {
      "cell_type": "code",
      "source": [
        "# Phase-Flip Code via H-rotation\n",
        "HHH = op_on_qubit(H,1,3) @ op_on_qubit(H,2,3) @ op_on_qubit(H,3,3)\n",
        "\n",
        "# Reusing |ψ>|00⟩ and the encoder\n",
        "state = kron(kron(psi, np.array([1,0], dtype=complex)), np.array([1,0], dtype=complex))\n",
        "state_enc = CNOT(n,1,2) @ (CNOT(n,1,3) @ state)\n",
        "\n",
        "# Injecting Z error on qubit 2\n",
        "state_err = op_on_qubit(Z,2,3) @ state_enc\n",
        "\n",
        "# Rotating so Z-error looks like X-error\n",
        "rot = HHH @ state_err\n",
        "\n",
        "Z1Z2 = op_on_qubit(Z,1,3) @ op_on_qubit(Z,2,3)\n",
        "Z1Z3 = op_on_qubit(Z,1,3) @ op_on_qubit(Z,3,3)\n",
        "s1 = np.vdot(rot, Z1Z2 @ rot).real\n",
        "s2 = np.vdot(rot, Z1Z3 @ rot).real\n",
        "\n",
        "if s1 < 0 and s2 > 0:\n",
        "    fix = 2\n",
        "elif s1 > 0 and s2 < 0:\n",
        "    fix = 3\n",
        "elif s1 < 0 and s2 < 0:\n",
        "    fix = 1\n",
        "else:\n",
        "    fix = 0\n",
        "\n",
        "# Correcting in rotated frame, then rotating back\n",
        "rot_fix = op_on_qubit(X,fix,3) @ rot if fix else rot\n",
        "state_fix = HHH @ rot_fix\n",
        "\n",
        "# Decoding\n",
        "state_out = CNOT(n,1,3) @ (CNOT(n,1,2) @ state_fix)\n",
        "\n",
        "# Reduced density matrix of qubit 1 and fidelity with |+>\n",
        "rho = np.outer(state_out, np.conj(state_out))\n",
        "rho1 = np.zeros((2,2), dtype=complex)\n",
        "for a in range(2):\n",
        "    for b in range(2):\n",
        "        s = 0+0j\n",
        "        for q2 in range(2):\n",
        "            for q3 in range(2):\n",
        "                i = (a<<2) | (q2<<1) | q3\n",
        "                j = (b<<2) | (q2<<1) | q3\n",
        "                s += rho[i,j]\n",
        "        rho1[a,b] = s\n",
        "fid_plus = float(np.real(np.trace(rho1 @ rho_plus)))\n",
        "\n",
        "print(\"Rotate with H⊗H⊗H, measure syndrome, fix, rotate back.\\n\")\n",
        "print(f\"Syndrome: <Z1Z2>={s1:.2f}, <Z1Z3>={s2:.2f}  →  fix qubit {fix if fix else 'none'}\\n\")\n",
        "print(\"Reduced ρ₁:\\n\", np.round(rho1, 3))\n",
        "print(\"Fidelity with |+⟩:\", round(fid_plus, 6))"
      ],
      "metadata": {
        "colab": {
          "base_uri": "https://localhost:8080/"
        },
        "id": "tr8N9Ted_jV3",
        "outputId": "c712c0b0-40fd-4f70-9bc3-04ada64562a1"
      },
      "execution_count": null,
      "outputs": [
        {
          "output_type": "stream",
          "name": "stdout",
          "text": [
            "Rotate with H⊗H⊗H, measure syndrome, fix, rotate back.\n",
            "\n",
            "Syndrome: <Z1Z2>=0.00, <Z1Z3>=0.00  →  fix qubit none\n",
            "\n",
            "Reduced ρ₁:\n",
            " [[ 0.5+0.j -0.5+0.j]\n",
            " [-0.5+0.j  0.5+0.j]]\n",
            "Fidelity with |+⟩: 0.0\n"
          ]
        }
      ]
    }
  ]
}